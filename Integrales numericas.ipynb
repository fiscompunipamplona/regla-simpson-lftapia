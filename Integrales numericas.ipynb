{
 "cells": [
  {
   "cell_type": "markdown",
   "metadata": {},
   "source": [
    "* **Método del rectangulo**"
   ]
  },
  {
   "cell_type": "code",
   "execution_count": 1,
   "metadata": {
    "scrolled": true
   },
   "outputs": [
    {
     "name": "stdout",
     "output_type": "stream",
     "text": [
      "1.570743738501071\n",
      "Error: 0.0033478747644477558\n"
     ]
    }
   ],
   "source": [
    "from numpy import*\n",
    "I=[]\n",
    "N=1000\n",
    "h=2/N\n",
    "it=0\n",
    "for k in range(1,N):\n",
    "  \n",
    "  x=-1+(k*h)\n",
    "  y=sqrt((1-x**2))\n",
    "  i=h*y\n",
    "  it+=i  \n",
    "  #I.append(i)\n",
    "  #It=sum(I)\n",
    "print(it)\n",
    "Error1=(1-(it/(pi/2)))\n",
    "print(\"Error:\",Error1*100)"
   ]
  },
  {
   "cell_type": "markdown",
   "metadata": {},
   "source": [
    "# Regla  del trapecio"
   ]
  },
  {
   "cell_type": "markdown",
   "metadata": {},
   "source": [
    "$\\int_{-1}^{1}\\sqrt{1-x^2} dx$"
   ]
  },
  {
   "cell_type": "code",
   "execution_count": 2,
   "metadata": {},
   "outputs": [
    {
     "name": "stdout",
     "output_type": "stream",
     "text": [
      "El valor de la integral por la regla del trapecio es: 1.5706173106560368\n",
      "Error: 0.011396521357098788\n"
     ]
    }
   ],
   "source": [
    "from numpy import*\n",
    "from math import*\n",
    "N=1000\n",
    "a=-1\n",
    "b=1\n",
    "h=(b-a)/N\n",
    "Si=0\n",
    "for k in range(1,N-1):\n",
    "    S=h*sqrt(1-(a+k*h)**2)\n",
    "    Si+=S\n",
    "#print(Si)\n",
    "T=(h/2)*(sqrt(1-(a*a))+sqrt(1-(b*b)))+Si\n",
    "print(\"El valor de la integral por la regla del trapecio es:\",T)\n",
    "Error=(1-(T/(pi/2)))\n",
    "print(\"Error:\",Error*100)"
   ]
  },
  {
   "cell_type": "markdown",
   "metadata": {},
   "source": [
    "$\\int_{0}^{2}(x^{4}-2x+1) dx$"
   ]
  },
  {
   "cell_type": "code",
   "execution_count": 4,
   "metadata": {},
   "outputs": [
    {
     "name": "stdout",
     "output_type": "stream",
     "text": [
      "El valor de la integral por la regla del trapecio es N=1000: 4.374130474793567\n",
      "Error para N=1000: 0.5879437546916666\n",
      "\n",
      "El valor de la integral por la regla del trapecio es N=1000: 4.5313818115529\n",
      "Error para N=100: 0.5879437546916666\n"
     ]
    }
   ],
   "source": [
    "from numpy import*\n",
    "\n",
    "N=1000\n",
    "n=100\n",
    "a=0\n",
    "b=2\n",
    "h=(b-a)/N\n",
    "Si=0\n",
    "fa=(a**4)-(2*a)+1\n",
    "fb=(b**4)-(2*b)+1\n",
    "for k in range(1,N-1):\n",
    "    S=h*(((a+k*h)**4)-(2*(a+k*h))+1)\n",
    "    Si+=S\n",
    "\n",
    "T=(h/2)*(fa+fb)+Si\n",
    "print(\"El valor de la integral por la regla del trapecio es N=1000:\",T)\n",
    "Error=(1-(T/4.4))\n",
    "print(\"Error para N=1000:\",Error*100)\n",
    "\n",
    "for k in range(1,n-1):\n",
    "    S=h*(((a+k*h)**4)-(2*(a+k*h))+1)\n",
    "    Si+=S\n",
    "\n",
    "T2=(h/2)*(fa+fb)+Si\n",
    "print(\"\\nEl valor de la integral por la regla del trapecio es N=100:\",T2)\n",
    "Error=(1-(T/4.4))\n",
    "print(\"Error para N=100:\",Error*100)\n"
   ]
  },
  {
   "cell_type": "markdown",
   "metadata": {},
   "source": [
    "**Integral por regla del simpson  $\\int_{0}^{2} x^{4}-2x+1 dx$**\n"
   ]
  },
  {
   "cell_type": "code",
   "execution_count": 7,
   "metadata": {},
   "outputs": [
    {
     "name": "stdout",
     "output_type": "stream",
     "text": [
      "El valor de la integral por la regla de simpson con N=1000 es: 4.400000000004267\n",
      "Error: -9.696687897076117e-11\n",
      "\n",
      "El valor de la integral por la regla de simpson con n=100 es: 4.644184868983041\n",
      "Error: -5.549656113250934\n"
     ]
    }
   ],
   "source": [
    "from numpy import*\n",
    "\n",
    "N=1000\n",
    "n=100\n",
    "a=0\n",
    "b=2\n",
    "h=(b-a)/N\n",
    "hh=(b-a)/n\n",
    "\n",
    "sii=0\n",
    "Si=0\n",
    "fa=(a**4)-(2*a)+1\n",
    "fb=(b**4)-(2*b)+1\n",
    "\n",
    "for k in range(1,N//2+1):\n",
    "    y=a+(2*k-1)*h\n",
    "    S=(y**4)-2*y+1\n",
    "    Si+=4*S\n",
    "for k in range(1,(N//2-1)+1):\n",
    "    x=a+2*k*h\n",
    "    SS=(x**4)-2*(x)+1\n",
    "    sii+=2*SS\n",
    "\n",
    "T=(h/3)*(fa+fb+(Si)+(sii))\n",
    "print(\"El valor de la integral por la regla de simpson con N=1000 es:\",T)\n",
    "Error=(1-(T/4.4))\n",
    "print(\"Error:\",Error*100)\n",
    "\n",
    "for k in range(1,n//2+1):\n",
    "    y=a+(2*k-1)*h\n",
    "    S=(y**4)-2*y+1\n",
    "    Si+=4*S\n",
    "for k in range(1,(n//2-1)+1):\n",
    "    x=a+2*k*hh\n",
    "    SS=(x**4)-2*(x)+1\n",
    "    sii+=2*SS\n",
    "\n",
    "T2=(h/3)*(fa+fb+(Si)+(sii))\n",
    "print(\"\\nEl valor de la integral por la regla de simpson con n=100 es:\",T2)\n",
    "Error=(1-(T2/4.4))\n",
    "print(\"Error:\",Error*100)"
   ]
  },
  {
   "cell_type": "markdown",
   "metadata": {},
   "source": [
    "*Como podemos ver al realizar la misma integral el método de simpson con respecto al del trapecio es mejor debido a que el método de simpson utiliza polinomios de grado 2 y la estimación es mejor.*"
   ]
  },
  {
   "cell_type": "markdown",
   "metadata": {},
   "source": [
    "# integrando datos"
   ]
  },
  {
   "cell_type": "code",
   "execution_count": 2,
   "metadata": {},
   "outputs": [
    {
     "name": "stdout",
     "output_type": "stream",
     "text": [
      "El valor de la integral por la regla del trapecio es: 839.0166979999995\n"
     ]
    }
   ],
   "source": [
    "from numpy import*\n",
    "from pylab import plot, show\n",
    "data = loadtxt(\"velocities.txt\", float)\n",
    "\n",
    "N=100\n",
    "a=0\n",
    "b=100\n",
    "h=(b-a)/N\n",
    "Si=0\n",
    "fa=data[0,1]\n",
    "fb=data[100,1]\n",
    "#print(fb)\n",
    "for k in range(1,N-1):\n",
    "    S=data[:,1]\n",
    "    Si+=S\n",
    "#print(Si)\n",
    "T=(h/2)*(fa+fb)+(h*Si)\n",
    "Tr=sum(T)\n",
    "print(\"El valor de la integral por la regla del trapecio es:\",Tr)\n",
    "\n"
   ]
  },
  {
   "cell_type": "code",
   "execution_count": 8,
   "metadata": {},
   "outputs": [
    {
     "name": "stdout",
     "output_type": "stream",
     "text": [
      "El valor de la integral por la regla del trapecio es: 1.0006666666666708\n",
      "El valor de la integral por la regla del trapecio es: 2.0006666666666484\n",
      "El valor de la integral por la regla del trapecio es: 3.0006666666666257\n",
      "El valor de la integral por la regla del trapecio es: 4.0006666666666035\n",
      "El valor de la integral por la regla del trapecio es: 5.00066666666658\n",
      "El valor de la integral por la regla del trapecio es: 6.000666666666558\n",
      "El valor de la integral por la regla del trapecio es: 7.000666666666737\n",
      "El valor de la integral por la regla del trapecio es: 8.00066666666707\n",
      "El valor de la integral por la regla del trapecio es: 9.000666666667406\n",
      "El valor de la integral por la regla del trapecio es: 10.00066666666774\n",
      "El valor de la integral por la regla del trapecio es: 11.000666666668074\n",
      "El valor de la integral por la regla del trapecio es: 12.00066666666841\n",
      "El valor de la integral por la regla del trapecio es: 13.000666666668648\n",
      "El valor de la integral por la regla del trapecio es: 14.000666666668268\n",
      "El valor de la integral por la regla del trapecio es: 15.00066666666789\n",
      "El valor de la integral por la regla del trapecio es: 16.00066666666751\n",
      "El valor de la integral por la regla del trapecio es: 17.00066666666713\n",
      "El valor de la integral por la regla del trapecio es: 18.00066666666675\n",
      "El valor de la integral por la regla del trapecio es: 19.00066666666637\n"
     ]
    }
   ],
   "source": [
    "from numpy import*\n",
    "\n",
    "N=1000\n",
    "a=0\n",
    "b=pi\n",
    "h=(b-a)/N\n",
    "m=0\n",
    "x=0\n",
    "sii=0\n",
    "Si=0\n",
    "fa=(1/pi)*cos(m*y-x*sin(y))\n",
    "fa1=(1/pi)*cos(m*a-x*sin(a))\n",
    "fb=(1/pi)*cos(m*b-x*sin(b))\n",
    "for x in range (1,20):    \n",
    "    for k in range(1,N//2+1):    \n",
    "        y=a+(2*k-1)*h\n",
    "        S=fa\n",
    "        Si+=4*S\n",
    "        x=a+2*(k-1)*h\n",
    "        SS=fa\n",
    "        sii+=2*SS\n",
    "    T=(h/3)*(fa1+fb+(Si)+(sii))        \n",
    "    print(\"El valor de la integral por la regla del trapecio es:\",T)\n",
    "#Error=(1-(T/4.4))\n",
    "#print(\"Error:\",Error*100)"
   ]
  },
  {
   "cell_type": "code",
   "execution_count": null,
   "metadata": {},
   "outputs": [],
   "source": []
  }
 ],
 "metadata": {
  "kernelspec": {
   "display_name": "Python 3",
   "language": "python",
   "name": "python3"
  },
  "language_info": {
   "codemirror_mode": {
    "name": "ipython",
    "version": 3
   },
   "file_extension": ".py",
   "mimetype": "text/x-python",
   "name": "python",
   "nbconvert_exporter": "python",
   "pygments_lexer": "ipython3",
   "version": "3.5.2"
  }
 },
 "nbformat": 4,
 "nbformat_minor": 2
}
